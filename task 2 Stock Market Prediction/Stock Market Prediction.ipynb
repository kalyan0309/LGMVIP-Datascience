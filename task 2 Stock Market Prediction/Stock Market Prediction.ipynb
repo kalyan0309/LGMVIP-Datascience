{
 "cells": [
  {
   "cell_type": "code",
   "execution_count": 4,
   "id": "c44efec4",
   "metadata": {},
   "outputs": [
    {
     "name": "stdout",
     "output_type": "stream",
     "text": [
      "Requirement already satisfied: tensorflow in c:\\users\\admin\\anaconda3\\lib\\site-packages (2.8.0)\n",
      "Requirement already satisfied: gast>=0.2.1 in c:\\users\\admin\\anaconda3\\lib\\site-packages (from tensorflow) (0.5.3)\n",
      "Requirement already satisfied: flatbuffers>=1.12 in c:\\users\\admin\\anaconda3\\lib\\site-packages (from tensorflow) (2.0)\n",
      "Requirement already satisfied: libclang>=9.0.1 in c:\\users\\admin\\anaconda3\\lib\\site-packages (from tensorflow) (14.0.1)\n",
      "Requirement already satisfied: setuptools in c:\\users\\admin\\anaconda3\\lib\\site-packages (from tensorflow) (58.0.4)\n",
      "Requirement already satisfied: absl-py>=0.4.0 in c:\\users\\admin\\anaconda3\\lib\\site-packages (from tensorflow) (1.0.0)\n",
      "Requirement already satisfied: numpy>=1.20 in c:\\users\\admin\\anaconda3\\lib\\site-packages (from tensorflow) (1.20.3)\n",
      "Requirement already satisfied: astunparse>=1.6.0 in c:\\users\\admin\\anaconda3\\lib\\site-packages (from tensorflow) (1.6.3)\n",
      "Requirement already satisfied: six>=1.12.0 in c:\\users\\admin\\anaconda3\\lib\\site-packages (from tensorflow) (1.16.0)\n",
      "Requirement already satisfied: keras-preprocessing>=1.1.1 in c:\\users\\admin\\anaconda3\\lib\\site-packages (from tensorflow) (1.1.2)\n",
      "Requirement already satisfied: termcolor>=1.1.0 in c:\\users\\admin\\anaconda3\\lib\\site-packages (from tensorflow) (1.1.0)\n",
      "Requirement already satisfied: wrapt>=1.11.0 in c:\\users\\admin\\anaconda3\\lib\\site-packages (from tensorflow) (1.12.1)\n",
      "Requirement already satisfied: opt-einsum>=2.3.2 in c:\\users\\admin\\anaconda3\\lib\\site-packages (from tensorflow) (3.3.0)\n",
      "Requirement already satisfied: google-pasta>=0.1.1 in c:\\users\\admin\\anaconda3\\lib\\site-packages (from tensorflow) (0.2.0)\n",
      "Requirement already satisfied: tensorboard<2.9,>=2.8 in c:\\users\\admin\\anaconda3\\lib\\site-packages (from tensorflow) (2.8.0)\n",
      "Requirement already satisfied: keras<2.9,>=2.8.0rc0 in c:\\users\\admin\\anaconda3\\lib\\site-packages (from tensorflow) (2.8.0)\n",
      "Requirement already satisfied: protobuf>=3.9.2 in c:\\users\\admin\\anaconda3\\lib\\site-packages (from tensorflow) (3.20.1)\n",
      "Requirement already satisfied: tensorflow-io-gcs-filesystem>=0.23.1 in c:\\users\\admin\\anaconda3\\lib\\site-packages (from tensorflow) (0.25.0)\n",
      "Requirement already satisfied: tf-estimator-nightly==2.8.0.dev2021122109 in c:\\users\\admin\\anaconda3\\lib\\site-packages (from tensorflow) (2.8.0.dev2021122109)\n",
      "Requirement already satisfied: grpcio<2.0,>=1.24.3 in c:\\users\\admin\\anaconda3\\lib\\site-packages (from tensorflow) (1.46.0)\n",
      "Requirement already satisfied: h5py>=2.9.0 in c:\\users\\admin\\anaconda3\\lib\\site-packages (from tensorflow) (3.2.1)\n",
      "Requirement already satisfied: typing-extensions>=3.6.6 in c:\\users\\admin\\anaconda3\\lib\\site-packages (from tensorflow) (3.10.0.2)\n",
      "Requirement already satisfied: wheel<1.0,>=0.23.0 in c:\\users\\admin\\anaconda3\\lib\\site-packages (from astunparse>=1.6.0->tensorflow) (0.37.0)\n",
      "Requirement already satisfied: requests<3,>=2.21.0 in c:\\users\\admin\\anaconda3\\lib\\site-packages (from tensorboard<2.9,>=2.8->tensorflow) (2.26.0)\n",
      "Requirement already satisfied: tensorboard-data-server<0.7.0,>=0.6.0 in c:\\users\\admin\\anaconda3\\lib\\site-packages (from tensorboard<2.9,>=2.8->tensorflow) (0.6.1)\n",
      "Requirement already satisfied: tensorboard-plugin-wit>=1.6.0 in c:\\users\\admin\\anaconda3\\lib\\site-packages (from tensorboard<2.9,>=2.8->tensorflow) (1.8.1)\n",
      "Requirement already satisfied: markdown>=2.6.8 in c:\\users\\admin\\anaconda3\\lib\\site-packages (from tensorboard<2.9,>=2.8->tensorflow) (3.3.6)\n",
      "Requirement already satisfied: google-auth<3,>=1.6.3 in c:\\users\\admin\\anaconda3\\lib\\site-packages (from tensorboard<2.9,>=2.8->tensorflow) (2.6.6)\n",
      "Requirement already satisfied: werkzeug>=0.11.15 in c:\\users\\admin\\anaconda3\\lib\\site-packages (from tensorboard<2.9,>=2.8->tensorflow) (2.0.2)\n",
      "Requirement already satisfied: google-auth-oauthlib<0.5,>=0.4.1 in c:\\users\\admin\\anaconda3\\lib\\site-packages (from tensorboard<2.9,>=2.8->tensorflow) (0.4.6)\n",
      "Requirement already satisfied: cachetools<6.0,>=2.0.0 in c:\\users\\admin\\anaconda3\\lib\\site-packages (from google-auth<3,>=1.6.3->tensorboard<2.9,>=2.8->tensorflow) (5.0.0)\n",
      "Requirement already satisfied: rsa<5,>=3.1.4 in c:\\users\\admin\\anaconda3\\lib\\site-packages (from google-auth<3,>=1.6.3->tensorboard<2.9,>=2.8->tensorflow) (4.8)\n",
      "Requirement already satisfied: pyasn1-modules>=0.2.1 in c:\\users\\admin\\anaconda3\\lib\\site-packages (from google-auth<3,>=1.6.3->tensorboard<2.9,>=2.8->tensorflow) (0.2.8)\n",
      "Requirement already satisfied: requests-oauthlib>=0.7.0 in c:\\users\\admin\\anaconda3\\lib\\site-packages (from google-auth-oauthlib<0.5,>=0.4.1->tensorboard<2.9,>=2.8->tensorflow) (1.3.1)\n",
      "Requirement already satisfied: importlib-metadata>=4.4 in c:\\users\\admin\\anaconda3\\lib\\site-packages (from markdown>=2.6.8->tensorboard<2.9,>=2.8->tensorflow) (4.8.1)\n",
      "Requirement already satisfied: zipp>=0.5 in c:\\users\\admin\\anaconda3\\lib\\site-packages (from importlib-metadata>=4.4->markdown>=2.6.8->tensorboard<2.9,>=2.8->tensorflow) (3.6.0)\n",
      "Requirement already satisfied: pyasn1<0.5.0,>=0.4.6 in c:\\users\\admin\\anaconda3\\lib\\site-packages (from pyasn1-modules>=0.2.1->google-auth<3,>=1.6.3->tensorboard<2.9,>=2.8->tensorflow) (0.4.8)\n",
      "Requirement already satisfied: urllib3<1.27,>=1.21.1 in c:\\users\\admin\\anaconda3\\lib\\site-packages (from requests<3,>=2.21.0->tensorboard<2.9,>=2.8->tensorflow) (1.26.7)\n",
      "Requirement already satisfied: charset-normalizer~=2.0.0 in c:\\users\\admin\\anaconda3\\lib\\site-packages (from requests<3,>=2.21.0->tensorboard<2.9,>=2.8->tensorflow) (2.0.4)\n",
      "Requirement already satisfied: certifi>=2017.4.17 in c:\\users\\admin\\anaconda3\\lib\\site-packages (from requests<3,>=2.21.0->tensorboard<2.9,>=2.8->tensorflow) (2021.10.8)\n",
      "Requirement already satisfied: idna<4,>=2.5 in c:\\users\\admin\\anaconda3\\lib\\site-packages (from requests<3,>=2.21.0->tensorboard<2.9,>=2.8->tensorflow) (3.2)\n",
      "Requirement already satisfied: oauthlib>=3.0.0 in c:\\users\\admin\\anaconda3\\lib\\site-packages (from requests-oauthlib>=0.7.0->google-auth-oauthlib<0.5,>=0.4.1->tensorboard<2.9,>=2.8->tensorflow) (3.2.0)\n"
     ]
    }
   ],
   "source": [
    "!pip install tensorflow\n"
   ]
  },
  {
   "cell_type": "code",
   "execution_count": 6,
   "id": "0fceeacd",
   "metadata": {},
   "outputs": [],
   "source": [
    "import pandas as pd\n",
    "import numpy as np\n",
    "import math\n",
    "import matplotlib.pyplot as plt\n",
    "from sklearn.preprocessing import MinMaxScaler\n",
    "from sklearn.metrics import mean_squared_error\n",
    "import tensorflow as tf\n",
    "from tensorflow.python.keras.models import Sequential\n",
    "from tensorflow.python.keras.layers import Dense\n",
    "from tensorflow.python.keras.layers import LSTM\n",
    "%matplotlib inline"
   ]
  },
  {
   "cell_type": "code",
   "execution_count": 7,
   "id": "843e0d4e",
   "metadata": {},
   "outputs": [
    {
     "data": {
      "text/plain": [
       "'2.8.0'"
      ]
     },
     "execution_count": 7,
     "metadata": {},
     "output_type": "execute_result"
    }
   ],
   "source": [
    "tf.__version__"
   ]
  },
  {
   "cell_type": "code",
   "execution_count": 8,
   "id": "fea6bb2a",
   "metadata": {},
   "outputs": [
    {
     "data": {
      "text/html": [
       "<div>\n",
       "<style scoped>\n",
       "    .dataframe tbody tr th:only-of-type {\n",
       "        vertical-align: middle;\n",
       "    }\n",
       "\n",
       "    .dataframe tbody tr th {\n",
       "        vertical-align: top;\n",
       "    }\n",
       "\n",
       "    .dataframe thead th {\n",
       "        text-align: right;\n",
       "    }\n",
       "</style>\n",
       "<table border=\"1\" class=\"dataframe\">\n",
       "  <thead>\n",
       "    <tr style=\"text-align: right;\">\n",
       "      <th></th>\n",
       "      <th>Date</th>\n",
       "      <th>Open</th>\n",
       "      <th>High</th>\n",
       "      <th>Low</th>\n",
       "      <th>Last</th>\n",
       "      <th>Close</th>\n",
       "      <th>Total Trade Quantity</th>\n",
       "      <th>Turnover (Lacs)</th>\n",
       "    </tr>\n",
       "  </thead>\n",
       "  <tbody>\n",
       "    <tr>\n",
       "      <th>2034</th>\n",
       "      <td>2010-07-21</td>\n",
       "      <td>122.1</td>\n",
       "      <td>123.00</td>\n",
       "      <td>121.05</td>\n",
       "      <td>121.10</td>\n",
       "      <td>121.55</td>\n",
       "      <td>658666</td>\n",
       "      <td>803.56</td>\n",
       "    </tr>\n",
       "    <tr>\n",
       "      <th>2033</th>\n",
       "      <td>2010-07-22</td>\n",
       "      <td>120.3</td>\n",
       "      <td>122.00</td>\n",
       "      <td>120.25</td>\n",
       "      <td>120.75</td>\n",
       "      <td>120.90</td>\n",
       "      <td>293312</td>\n",
       "      <td>355.17</td>\n",
       "    </tr>\n",
       "    <tr>\n",
       "      <th>2032</th>\n",
       "      <td>2010-07-23</td>\n",
       "      <td>121.8</td>\n",
       "      <td>121.95</td>\n",
       "      <td>120.25</td>\n",
       "      <td>120.35</td>\n",
       "      <td>120.65</td>\n",
       "      <td>281312</td>\n",
       "      <td>340.31</td>\n",
       "    </tr>\n",
       "    <tr>\n",
       "      <th>2031</th>\n",
       "      <td>2010-07-26</td>\n",
       "      <td>120.1</td>\n",
       "      <td>121.00</td>\n",
       "      <td>117.10</td>\n",
       "      <td>117.10</td>\n",
       "      <td>117.60</td>\n",
       "      <td>658440</td>\n",
       "      <td>780.01</td>\n",
       "    </tr>\n",
       "    <tr>\n",
       "      <th>2030</th>\n",
       "      <td>2010-07-27</td>\n",
       "      <td>117.6</td>\n",
       "      <td>119.50</td>\n",
       "      <td>112.00</td>\n",
       "      <td>118.80</td>\n",
       "      <td>118.65</td>\n",
       "      <td>586100</td>\n",
       "      <td>694.98</td>\n",
       "    </tr>\n",
       "  </tbody>\n",
       "</table>\n",
       "</div>"
      ],
      "text/plain": [
       "            Date   Open    High     Low    Last   Close  Total Trade Quantity  \\\n",
       "2034  2010-07-21  122.1  123.00  121.05  121.10  121.55                658666   \n",
       "2033  2010-07-22  120.3  122.00  120.25  120.75  120.90                293312   \n",
       "2032  2010-07-23  121.8  121.95  120.25  120.35  120.65                281312   \n",
       "2031  2010-07-26  120.1  121.00  117.10  117.10  117.60                658440   \n",
       "2030  2010-07-27  117.6  119.50  112.00  118.80  118.65                586100   \n",
       "\n",
       "      Turnover (Lacs)  \n",
       "2034           803.56  \n",
       "2033           355.17  \n",
       "2032           340.31  \n",
       "2031           780.01  \n",
       "2030           694.98  "
      ]
     },
     "execution_count": 8,
     "metadata": {},
     "output_type": "execute_result"
    }
   ],
   "source": [
    "defn = pd.read_csv('https://raw.githubusercontent.com/mwitiderrick/stockprice/master/NSE-TATAGLOBAL.csv')\n",
    "defn=defn. iloc[::-1]\n",
    "defn.head()\n"
   ]
  },
  {
   "cell_type": "code",
   "execution_count": 9,
   "id": "3970a09c",
   "metadata": {},
   "outputs": [
    {
     "data": {
      "text/html": [
       "<div>\n",
       "<style scoped>\n",
       "    .dataframe tbody tr th:only-of-type {\n",
       "        vertical-align: middle;\n",
       "    }\n",
       "\n",
       "    .dataframe tbody tr th {\n",
       "        vertical-align: top;\n",
       "    }\n",
       "\n",
       "    .dataframe thead th {\n",
       "        text-align: right;\n",
       "    }\n",
       "</style>\n",
       "<table border=\"1\" class=\"dataframe\">\n",
       "  <thead>\n",
       "    <tr style=\"text-align: right;\">\n",
       "      <th></th>\n",
       "      <th>Date</th>\n",
       "      <th>Open</th>\n",
       "      <th>High</th>\n",
       "      <th>Low</th>\n",
       "      <th>Last</th>\n",
       "      <th>Close</th>\n",
       "      <th>Total Trade Quantity</th>\n",
       "      <th>Turnover (Lacs)</th>\n",
       "    </tr>\n",
       "  </thead>\n",
       "  <tbody>\n",
       "    <tr>\n",
       "      <th>4</th>\n",
       "      <td>2018-09-24</td>\n",
       "      <td>233.55</td>\n",
       "      <td>239.20</td>\n",
       "      <td>230.75</td>\n",
       "      <td>234.00</td>\n",
       "      <td>233.30</td>\n",
       "      <td>3423509</td>\n",
       "      <td>7999.55</td>\n",
       "    </tr>\n",
       "    <tr>\n",
       "      <th>3</th>\n",
       "      <td>2018-09-25</td>\n",
       "      <td>233.30</td>\n",
       "      <td>236.75</td>\n",
       "      <td>232.00</td>\n",
       "      <td>236.25</td>\n",
       "      <td>236.10</td>\n",
       "      <td>2349368</td>\n",
       "      <td>5503.90</td>\n",
       "    </tr>\n",
       "    <tr>\n",
       "      <th>2</th>\n",
       "      <td>2018-09-26</td>\n",
       "      <td>240.00</td>\n",
       "      <td>240.00</td>\n",
       "      <td>232.50</td>\n",
       "      <td>235.00</td>\n",
       "      <td>234.25</td>\n",
       "      <td>2240909</td>\n",
       "      <td>5248.60</td>\n",
       "    </tr>\n",
       "    <tr>\n",
       "      <th>1</th>\n",
       "      <td>2018-09-27</td>\n",
       "      <td>234.55</td>\n",
       "      <td>236.80</td>\n",
       "      <td>231.10</td>\n",
       "      <td>233.80</td>\n",
       "      <td>233.25</td>\n",
       "      <td>5082859</td>\n",
       "      <td>11859.95</td>\n",
       "    </tr>\n",
       "    <tr>\n",
       "      <th>0</th>\n",
       "      <td>2018-09-28</td>\n",
       "      <td>234.05</td>\n",
       "      <td>235.95</td>\n",
       "      <td>230.20</td>\n",
       "      <td>233.50</td>\n",
       "      <td>233.75</td>\n",
       "      <td>3069914</td>\n",
       "      <td>7162.35</td>\n",
       "    </tr>\n",
       "  </tbody>\n",
       "</table>\n",
       "</div>"
      ],
      "text/plain": [
       "         Date    Open    High     Low    Last   Close  Total Trade Quantity  \\\n",
       "4  2018-09-24  233.55  239.20  230.75  234.00  233.30               3423509   \n",
       "3  2018-09-25  233.30  236.75  232.00  236.25  236.10               2349368   \n",
       "2  2018-09-26  240.00  240.00  232.50  235.00  234.25               2240909   \n",
       "1  2018-09-27  234.55  236.80  231.10  233.80  233.25               5082859   \n",
       "0  2018-09-28  234.05  235.95  230.20  233.50  233.75               3069914   \n",
       "\n",
       "   Turnover (Lacs)  \n",
       "4          7999.55  \n",
       "3          5503.90  \n",
       "2          5248.60  \n",
       "1         11859.95  \n",
       "0          7162.35  "
      ]
     },
     "execution_count": 9,
     "metadata": {},
     "output_type": "execute_result"
    }
   ],
   "source": [
    "defn.tail()"
   ]
  },
  {
   "cell_type": "code",
   "execution_count": 10,
   "id": "0dea9af9",
   "metadata": {},
   "outputs": [
    {
     "data": {
      "text/plain": [
       "Date                    0\n",
       "Open                    0\n",
       "High                    0\n",
       "Low                     0\n",
       "Last                    0\n",
       "Close                   0\n",
       "Total Trade Quantity    0\n",
       "Turnover (Lacs)         0\n",
       "dtype: int64"
      ]
     },
     "execution_count": 10,
     "metadata": {},
     "output_type": "execute_result"
    }
   ],
   "source": [
    "defn.isnull().sum()"
   ]
  },
  {
   "cell_type": "code",
   "execution_count": 11,
   "id": "269d4dc5",
   "metadata": {},
   "outputs": [
    {
     "data": {
      "text/plain": [
       "(2035, 8)"
      ]
     },
     "execution_count": 11,
     "metadata": {},
     "output_type": "execute_result"
    }
   ],
   "source": [
    "defn.shape"
   ]
  },
  {
   "cell_type": "code",
   "execution_count": 12,
   "id": "5223d8fb",
   "metadata": {},
   "outputs": [
    {
     "data": {
      "text/plain": [
       "[<matplotlib.lines.Line2D at 0x1cffc244a30>]"
      ]
     },
     "execution_count": 12,
     "metadata": {},
     "output_type": "execute_result"
    },
    {
     "data": {
      "image/png": "[encoded data removed]",
      "text/plain": [
       "<Figure size 432x288 with 1 Axes>"
      ]
     },
     "metadata": {
      "needs_background": "light"
     },
     "output_type": "display_data"
    }
   ],
   "source": [
    "defn_high=defn.reset_index()['High']\n",
    "plt.plot(defn_high)"
   ]
  },
  {
   "cell_type": "code",
   "execution_count": 13,
   "id": "16c237d6",
   "metadata": {},
   "outputs": [],
   "source": [
    "sclr = MinMaxScaler(feature_range = (0,1))\n",
    "defn_high = sclr.fit_transform(np.array(defn_high).reshape(-1,1))"
   ]
  },
  {
   "cell_type": "code",
   "execution_count": 14,
   "id": "06f9deb6",
   "metadata": {},
   "outputs": [
    {
     "data": {
      "text/plain": [
       "(2035, 1)"
      ]
     },
     "execution_count": 14,
     "metadata": {},
     "output_type": "execute_result"
    }
   ],
   "source": [
    "defn_high.shape"
   ]
  },
  {
   "cell_type": "code",
   "execution_count": 15,
   "id": "30d58d5f",
   "metadata": {},
   "outputs": [
    {
     "data": {
      "text/plain": [
       "array([[0.16344786],\n",
       "       [0.15938199],\n",
       "       [0.15917869],\n",
       "       ...,\n",
       "       [0.6391543 ],\n",
       "       [0.62614353],\n",
       "       [0.62268754]])"
      ]
     },
     "execution_count": 15,
     "metadata": {},
     "output_type": "execute_result"
    }
   ],
   "source": [
    "defn_high"
   ]
  },
  {
   "cell_type": "code",
   "execution_count": 16,
   "id": "6cecb522",
   "metadata": {},
   "outputs": [],
   "source": [
    "trainsz = int(len(defn_high) * 0.75)\n",
    "testsz = len(defn_high) - trainsz\n",
    "traindata, testdata = defn_high[0:trainsz,:], defn_high[trainsz:len(defn_high),:1]"
   ]
  },
  {
   "cell_type": "code",
   "execution_count": 17,
   "id": "99ca6859",
   "metadata": {},
   "outputs": [
    {
     "data": {
      "text/plain": [
       "(1526, 509)"
      ]
     },
     "execution_count": 17,
     "metadata": {},
     "output_type": "execute_result"
    }
   ],
   "source": [
    "trainsz,testsz"
   ]
  },
  {
   "cell_type": "code",
   "execution_count": 18,
   "id": "572dac9a",
   "metadata": {},
   "outputs": [],
   "source": [
    "def create_dataset(dataset, tstep = 1):\n",
    "    dX, dY = [], []\n",
    "    for i in range(len(dataset) - tstep - 1):\n",
    "        v = dataset[i:(i+tstep), 0]\n",
    "        dX.append(v)\n",
    "        dY.append(dataset[i+tstep, 0])\n",
    "    return np.array(dX), np.array(dY)\n",
    "\n",
    "    \n",
    "tstep = 100\n",
    "xtrainer, ytrainer = create_dataset(traindata, tstep)\n",
    "xtester, ytester = create_dataset(testdata, tstep)"
   ]
  },
  {
   "cell_type": "code",
   "execution_count": 19,
   "id": "474dae0e",
   "metadata": {},
   "outputs": [
    {
     "name": "stdout",
     "output_type": "stream",
     "text": [
      "(1425, 100, 1)\n",
      "(1425,)\n"
     ]
    },
    {
     "data": {
      "text/plain": [
       "(None, None)"
      ]
     },
     "execution_count": 19,
     "metadata": {},
     "output_type": "execute_result"
    }
   ],
   "source": [
    "xtrainer = xtrainer.reshape(xtrainer.shape[0], xtrainer.shape[1], 1)\n",
    "xtester = xtester.reshape(xtester.shape[0], xtester.shape[1], 1)\n",
    "\n",
    "\n",
    "print(xtrainer.shape), print(ytrainer.shape)"
   ]
  },
  {
   "cell_type": "code",
   "execution_count": 20,
   "id": "c88e17d4",
   "metadata": {},
   "outputs": [
    {
     "name": "stdout",
     "output_type": "stream",
     "text": [
      "(408, 100, 1)\n",
      "(408,)\n"
     ]
    },
    {
     "data": {
      "text/plain": [
       "(None, None)"
      ]
     },
     "execution_count": 20,
     "metadata": {},
     "output_type": "execute_result"
    }
   ],
   "source": [
    "print(xtester.shape), print(ytester.shape)"
   ]
  },
  {
   "cell_type": "code",
   "execution_count": 21,
   "id": "a15bf8b0",
   "metadata": {},
   "outputs": [
    {
     "name": "stdout",
     "output_type": "stream",
     "text": [
      "Model: \"sequential\"\n",
      "_________________________________________________________________\n",
      "Layer (type)                 Output Shape              Param #   \n",
      "=================================================================\n",
      "lstm (LSTM)                  (None, 100, 50)           10400     \n",
      "_________________________________________________________________\n",
      "lstm_1 (LSTM)                (None, 100, 50)           20200     \n",
      "_________________________________________________________________\n",
      "lstm_2 (LSTM)                (None, 50)                20200     \n",
      "_________________________________________________________________\n",
      "dense (Dense)                (None, 1)                 51        \n",
      "=================================================================\n",
      "Total params: 50,851\n",
      "Trainable params: 50,851\n",
      "Non-trainable params: 0\n",
      "_________________________________________________________________\n"
     ]
    }
   ],
   "source": [
    "mdl = Sequential()\n",
    "mdl.add(LSTM(50, return_sequences = True, input_shape = (100,1)))\n",
    "mdl.add(LSTM(50, return_sequences = True))\n",
    "mdl.add(LSTM(50))\n",
    "mdl.add(Dense(1))\n",
    "mdl.compile(loss = 'mean_squared_error', optimizer = 'adam')\n",
    "\n",
    "\n",
    "mdl.summary()"
   ]
  },
  {
   "cell_type": "code",
   "execution_count": 22,
   "id": "6f6d51f1",
   "metadata": {},
   "outputs": [
    {
     "name": "stdout",
     "output_type": "stream",
     "text": [
      "Epoch 1/100\n",
      "23/23 [==============================] - 30s 552ms/step - loss: 0.0114 - val_loss: 0.0499\n",
      "Epoch 2/100\n",
      "23/23 [==============================] - 10s 455ms/step - loss: 0.0022 - val_loss: 0.0052\n",
      "Epoch 3/100\n",
      "23/23 [==============================] - 10s 449ms/step - loss: 8.5312e-04 - val_loss: 0.0036\n",
      "Epoch 4/100\n",
      "23/23 [==============================] - 10s 449ms/step - loss: 7.7341e-04 - val_loss: 0.0029\n",
      "Epoch 5/100\n",
      "23/23 [==============================] - 10s 445ms/step - loss: 7.7582e-04 - val_loss: 0.0031\n",
      "Epoch 6/100\n",
      "23/23 [==============================] - 10s 450ms/step - loss: 7.1556e-04 - val_loss: 0.0031\n",
      "Epoch 7/100\n",
      "23/23 [==============================] - 10s 452ms/step - loss: 6.7338e-04 - val_loss: 0.0039\n",
      "Epoch 8/100\n",
      "23/23 [==============================] - 10s 445ms/step - loss: 6.8847e-04 - val_loss: 0.0041\n",
      "Epoch 9/100\n",
      "23/23 [==============================] - 10s 445ms/step - loss: 6.6248e-04 - val_loss: 0.0030\n",
      "Epoch 10/100\n",
      "23/23 [==============================] - 10s 449ms/step - loss: 6.0982e-04 - val_loss: 0.0024\n",
      "Epoch 11/100\n",
      "23/23 [==============================] - 10s 449ms/step - loss: 6.1671e-04 - val_loss: 0.0063\n",
      "Epoch 12/100\n",
      "23/23 [==============================] - 10s 447ms/step - loss: 6.2139e-04 - val_loss: 0.0027\n",
      "Epoch 13/100\n",
      "23/23 [==============================] - 10s 445ms/step - loss: 5.7970e-04 - val_loss: 0.0056\n",
      "Epoch 14/100\n",
      "23/23 [==============================] - 10s 450ms/step - loss: 5.4494e-04 - val_loss: 0.0043\n",
      "Epoch 15/100\n",
      "23/23 [==============================] - 10s 444ms/step - loss: 5.2964e-04 - val_loss: 0.0056\n",
      "Epoch 16/100\n",
      "23/23 [==============================] - 10s 445ms/step - loss: 5.1442e-04 - val_loss: 0.0066\n",
      "Epoch 17/100\n",
      "23/23 [==============================] - 10s 446ms/step - loss: 4.9251e-04 - val_loss: 0.0088\n",
      "Epoch 18/100\n",
      "23/23 [==============================] - 10s 450ms/step - loss: 4.9614e-04 - val_loss: 0.0116\n",
      "Epoch 19/100\n",
      "23/23 [==============================] - 10s 446ms/step - loss: 4.8279e-04 - val_loss: 0.0097\n",
      "Epoch 20/100\n",
      "23/23 [==============================] - 10s 452ms/step - loss: 4.8052e-04 - val_loss: 0.0080\n",
      "Epoch 21/100\n",
      "23/23 [==============================] - 10s 449ms/step - loss: 4.8291e-04 - val_loss: 0.0116\n",
      "Epoch 22/100\n",
      "23/23 [==============================] - 10s 449ms/step - loss: 4.6829e-04 - val_loss: 0.0077\n",
      "Epoch 23/100\n",
      "23/23 [==============================] - 10s 452ms/step - loss: 4.2717e-04 - val_loss: 0.0078\n",
      "Epoch 24/100\n",
      "23/23 [==============================] - 10s 447ms/step - loss: 4.6457e-04 - val_loss: 0.0057\n",
      "Epoch 25/100\n",
      "23/23 [==============================] - 10s 454ms/step - loss: 4.1286e-04 - val_loss: 0.0077\n",
      "Epoch 26/100\n",
      "23/23 [==============================] - 10s 448ms/step - loss: 4.0455e-04 - val_loss: 0.0059\n",
      "Epoch 27/100\n",
      "23/23 [==============================] - 10s 452ms/step - loss: 4.0016e-04 - val_loss: 0.0069\n",
      "Epoch 28/100\n",
      "23/23 [==============================] - 10s 446ms/step - loss: 3.7513e-04 - val_loss: 0.0074\n",
      "Epoch 29/100\n",
      "23/23 [==============================] - 10s 447ms/step - loss: 3.7305e-04 - val_loss: 0.0054\n",
      "Epoch 30/100\n",
      "23/23 [==============================] - 10s 446ms/step - loss: 3.7766e-04 - val_loss: 0.0061\n",
      "Epoch 31/100\n",
      "23/23 [==============================] - 10s 448ms/step - loss: 3.5547e-04 - val_loss: 0.0099\n",
      "Epoch 32/100\n",
      "23/23 [==============================] - 10s 444ms/step - loss: 3.5523e-04 - val_loss: 0.0062\n",
      "Epoch 33/100\n",
      "23/23 [==============================] - 10s 443ms/step - loss: 3.3786e-04 - val_loss: 0.0070\n",
      "Epoch 34/100\n",
      "23/23 [==============================] - 10s 449ms/step - loss: 3.2200e-04 - val_loss: 0.0052\n",
      "Epoch 35/100\n",
      "23/23 [==============================] - 10s 445ms/step - loss: 3.3835e-04 - val_loss: 0.0083\n",
      "Epoch 36/100\n",
      "23/23 [==============================] - 10s 445ms/step - loss: 3.1540e-04 - val_loss: 0.0090\n",
      "Epoch 37/100\n",
      "23/23 [==============================] - 10s 451ms/step - loss: 3.4693e-04 - val_loss: 0.0044\n",
      "Epoch 38/100\n",
      "23/23 [==============================] - 10s 451ms/step - loss: 2.8735e-04 - val_loss: 0.0037\n",
      "Epoch 39/100\n",
      "23/23 [==============================] - 10s 450ms/step - loss: 2.8772e-04 - val_loss: 0.0025\n",
      "Epoch 40/100\n",
      "23/23 [==============================] - 10s 444ms/step - loss: 2.7083e-04 - val_loss: 0.0053\n",
      "Epoch 41/100\n",
      "23/23 [==============================] - 10s 451ms/step - loss: 2.9031e-04 - val_loss: 0.0065\n",
      "Epoch 42/100\n",
      "23/23 [==============================] - 10s 451ms/step - loss: 2.6828e-04 - val_loss: 0.0040\n",
      "Epoch 43/100\n",
      "23/23 [==============================] - 11s 457ms/step - loss: 2.4720e-04 - val_loss: 0.0046\n",
      "Epoch 44/100\n",
      "23/23 [==============================] - 10s 443ms/step - loss: 2.4775e-04 - val_loss: 0.0030\n",
      "Epoch 45/100\n",
      "23/23 [==============================] - 10s 446ms/step - loss: 2.3731e-04 - val_loss: 0.0027\n",
      "Epoch 46/100\n",
      "23/23 [==============================] - 7s 291ms/step - loss: 2.3233e-04 - val_loss: 0.0033\n",
      "Epoch 47/100\n",
      "23/23 [==============================] - 9s 411ms/step - loss: 2.2226e-04 - val_loss: 0.0047\n",
      "Epoch 48/100\n",
      "23/23 [==============================] - 10s 431ms/step - loss: 2.2390e-04 - val_loss: 0.0028\n",
      "Epoch 49/100\n",
      "23/23 [==============================] - 10s 450ms/step - loss: 2.2726e-04 - val_loss: 0.0016\n",
      "Epoch 50/100\n",
      "23/23 [==============================] - 10s 447ms/step - loss: 2.0475e-04 - val_loss: 0.0028\n",
      "Epoch 51/100\n",
      "23/23 [==============================] - 10s 440ms/step - loss: 2.0475e-04 - val_loss: 0.0020\n",
      "Epoch 52/100\n",
      "23/23 [==============================] - 10s 421ms/step - loss: 1.9506e-04 - val_loss: 0.0021\n",
      "Epoch 53/100\n",
      "23/23 [==============================] - 10s 437ms/step - loss: 1.8976e-04 - val_loss: 0.0013\n",
      "Epoch 54/100\n",
      "23/23 [==============================] - 10s 437ms/step - loss: 1.9413e-04 - val_loss: 0.0028\n",
      "Epoch 55/100\n",
      "23/23 [==============================] - 10s 438ms/step - loss: 1.8306e-04 - val_loss: 7.5123e-04\n",
      "Epoch 56/100\n",
      "23/23 [==============================] - 10s 446ms/step - loss: 1.8140e-04 - val_loss: 0.0014\n",
      "Epoch 57/100\n",
      "23/23 [==============================] - 10s 445ms/step - loss: 1.6948e-04 - val_loss: 0.0019\n",
      "Epoch 58/100\n",
      "23/23 [==============================] - 10s 440ms/step - loss: 1.8916e-04 - val_loss: 5.7128e-04\n",
      "Epoch 59/100\n",
      "23/23 [==============================] - 10s 437ms/step - loss: 1.6390e-04 - val_loss: 0.0013\n",
      "Epoch 60/100\n",
      "23/23 [==============================] - 10s 442ms/step - loss: 1.6172e-04 - val_loss: 0.0027\n",
      "Epoch 61/100\n",
      "23/23 [==============================] - 10s 439ms/step - loss: 1.6148e-04 - val_loss: 5.9208e-04\n",
      "Epoch 62/100\n",
      "23/23 [==============================] - 10s 438ms/step - loss: 1.5410e-04 - val_loss: 5.7857e-04\n",
      "Epoch 63/100\n",
      "23/23 [==============================] - 10s 438ms/step - loss: 1.7289e-04 - val_loss: 0.0013\n",
      "Epoch 64/100\n",
      "23/23 [==============================] - 10s 443ms/step - loss: 1.4310e-04 - val_loss: 0.0014\n",
      "Epoch 65/100\n",
      "23/23 [==============================] - 10s 440ms/step - loss: 1.4297e-04 - val_loss: 8.1134e-04\n",
      "Epoch 66/100\n",
      "23/23 [==============================] - 10s 442ms/step - loss: 1.4782e-04 - val_loss: 0.0026\n",
      "Epoch 67/100\n",
      "23/23 [==============================] - 10s 444ms/step - loss: 1.3998e-04 - val_loss: 0.0013\n",
      "Epoch 68/100\n",
      "23/23 [==============================] - 10s 455ms/step - loss: 1.3215e-04 - val_loss: 0.0018\n",
      "Epoch 69/100\n",
      "23/23 [==============================] - 11s 459ms/step - loss: 1.4697e-04 - val_loss: 0.0010\n",
      "Epoch 70/100\n",
      "23/23 [==============================] - 10s 439ms/step - loss: 1.3583e-04 - val_loss: 8.1055e-04\n",
      "Epoch 71/100\n",
      "23/23 [==============================] - 10s 444ms/step - loss: 1.3209e-04 - val_loss: 0.0014\n",
      "Epoch 72/100\n",
      "23/23 [==============================] - 10s 438ms/step - loss: 1.2940e-04 - val_loss: 8.1737e-04\n",
      "Epoch 73/100\n",
      "23/23 [==============================] - 10s 436ms/step - loss: 1.2208e-04 - val_loss: 5.1864e-04\n",
      "Epoch 74/100\n",
      "23/23 [==============================] - 10s 438ms/step - loss: 1.4572e-04 - val_loss: 0.0018\n",
      "Epoch 75/100\n",
      "23/23 [==============================] - 10s 436ms/step - loss: 1.3460e-04 - val_loss: 9.4517e-04\n",
      "Epoch 76/100\n",
      "23/23 [==============================] - 10s 436ms/step - loss: 1.2454e-04 - val_loss: 0.0012\n",
      "Epoch 77/100\n"
     ]
    },
    {
     "name": "stdout",
     "output_type": "stream",
     "text": [
      "23/23 [==============================] - 10s 438ms/step - loss: 1.2892e-04 - val_loss: 6.8228e-04\n",
      "Epoch 78/100\n",
      "23/23 [==============================] - 10s 440ms/step - loss: 1.2034e-04 - val_loss: 0.0021\n",
      "Epoch 79/100\n",
      "23/23 [==============================] - 10s 451ms/step - loss: 1.4421e-04 - val_loss: 7.7305e-04\n",
      "Epoch 80/100\n",
      "23/23 [==============================] - 10s 433ms/step - loss: 1.2870e-04 - val_loss: 0.0016\n",
      "Epoch 81/100\n",
      "23/23 [==============================] - 10s 446ms/step - loss: 1.2094e-04 - val_loss: 7.5974e-04\n",
      "Epoch 82/100\n",
      "23/23 [==============================] - 10s 433ms/step - loss: 1.2173e-04 - val_loss: 0.0016\n",
      "Epoch 83/100\n",
      "23/23 [==============================] - 10s 434ms/step - loss: 1.2239e-04 - val_loss: 0.0014\n",
      "Epoch 84/100\n",
      "23/23 [==============================] - 10s 441ms/step - loss: 1.2117e-04 - val_loss: 5.9343e-04\n",
      "Epoch 85/100\n",
      "23/23 [==============================] - 10s 439ms/step - loss: 1.3625e-04 - val_loss: 0.0010\n",
      "Epoch 86/100\n",
      "23/23 [==============================] - 10s 443ms/step - loss: 1.1674e-04 - val_loss: 0.0013\n",
      "Epoch 87/100\n",
      "23/23 [==============================] - 10s 439ms/step - loss: 1.1995e-04 - val_loss: 0.0012\n",
      "Epoch 88/100\n",
      "23/23 [==============================] - 10s 439ms/step - loss: 1.2241e-04 - val_loss: 6.6857e-04\n",
      "Epoch 89/100\n",
      "23/23 [==============================] - 10s 441ms/step - loss: 1.2832e-04 - val_loss: 0.0014\n",
      "Epoch 90/100\n",
      "23/23 [==============================] - 10s 441ms/step - loss: 1.2879e-04 - val_loss: 7.5322e-04\n",
      "Epoch 91/100\n",
      "23/23 [==============================] - 10s 439ms/step - loss: 1.1452e-04 - val_loss: 8.5777e-04\n",
      "Epoch 92/100\n",
      "23/23 [==============================] - 10s 441ms/step - loss: 1.1415e-04 - val_loss: 9.7542e-04\n",
      "Epoch 93/100\n",
      "23/23 [==============================] - 10s 439ms/step - loss: 1.2714e-04 - val_loss: 0.0015\n",
      "Epoch 94/100\n",
      "23/23 [==============================] - 10s 437ms/step - loss: 1.2616e-04 - val_loss: 5.8068e-04\n",
      "Epoch 95/100\n",
      "23/23 [==============================] - 10s 439ms/step - loss: 1.1632e-04 - val_loss: 0.0011\n",
      "Epoch 96/100\n",
      "23/23 [==============================] - 10s 435ms/step - loss: 1.1382e-04 - val_loss: 7.8582e-04\n",
      "Epoch 97/100\n",
      "23/23 [==============================] - 10s 438ms/step - loss: 1.1586e-04 - val_loss: 0.0010\n",
      "Epoch 98/100\n",
      "23/23 [==============================] - 10s 440ms/step - loss: 1.1442e-04 - val_loss: 6.7230e-04\n",
      "Epoch 99/100\n",
      "23/23 [==============================] - 10s 436ms/step - loss: 1.1542e-04 - val_loss: 6.8373e-04\n",
      "Epoch 100/100\n",
      "23/23 [==============================] - 10s 437ms/step - loss: 1.2987e-04 - val_loss: 6.8428e-04\n"
     ]
    },
    {
     "data": {
      "text/plain": [
       "<tensorflow.python.keras.callbacks.History at 0x1cffdeb2d00>"
      ]
     },
     "execution_count": 22,
     "metadata": {},
     "output_type": "execute_result"
    }
   ],
   "source": [
    "mdl.fit(xtrainer, ytrainer, validation_data = (xtester, ytester), epochs = 100, batch_size = 64, verbose = 1)"
   ]
  },
  {
   "cell_type": "code",
   "execution_count": 23,
   "id": "1948e322",
   "metadata": {},
   "outputs": [],
   "source": [
    "trpd = mdl.predict(xtrainer)\n",
    "tpd = mdl.predict(xtester)"
   ]
  },
  {
   "cell_type": "code",
   "execution_count": 24,
   "id": "74a61757",
   "metadata": {},
   "outputs": [],
   "source": [
    "trpd = sclr.inverse_transform(trpd)\n",
    "tpd = sclr.inverse_transform(tpd)"
   ]
  },
  {
   "cell_type": "code",
   "execution_count": 25,
   "id": "9bf77286",
   "metadata": {},
   "outputs": [
    {
     "data": {
      "text/plain": [
       "136.12095663068797"
      ]
     },
     "execution_count": 25,
     "metadata": {},
     "output_type": "execute_result"
    }
   ],
   "source": [
    "math.sqrt(mean_squared_error(ytrainer, trpd))"
   ]
  },
  {
   "cell_type": "code",
   "execution_count": 26,
   "id": "f789f85f",
   "metadata": {},
   "outputs": [
    {
     "data": {
      "text/plain": [
       "230.56080114306292"
      ]
     },
     "execution_count": 26,
     "metadata": {},
     "output_type": "execute_result"
    }
   ],
   "source": [
    "math.sqrt(mean_squared_error(ytester, tpd))"
   ]
  },
  {
   "cell_type": "code",
   "execution_count": 27,
   "id": "37c3ef07",
   "metadata": {},
   "outputs": [
    {
     "data": {
      "image/png": "[encoded data removed]",
      "text/plain": [
       "<Figure size 432x288 with 1 Axes>"
      ]
     },
     "metadata": {
      "needs_background": "light"
     },
     "output_type": "display_data"
    },
    {
     "name": "stdout",
     "output_type": "stream",
     "text": [
      "Green indicates the predicted data\n",
      "Blue indicates the complete data\n",
      "Orange indicates the trained data\n"
     ]
    }
   ],
   "source": [
    "lb = 100\n",
    "trpdPlot = np.empty_like(defn_high)\n",
    "trpdPlot[:,:] = np.nan\n",
    "trpdPlot[lb:len(trpd) + lb, :] = trpd\n",
    "\n",
    "tpdPlot = np.empty_like(defn_high)\n",
    "tpdPlot[:,:] = np.nan\n",
    "tpdPlot[len(trpd) + (lb * 2)+1:len(defn_high) - 1, :] = tpd\n",
    "\n",
    "plt.plot(sclr.inverse_transform(defn_high))\n",
    "plt.plot(trpdPlot)\n",
    "plt.plot(tpdPlot)\n",
    "plt.show()\n",
    "\n",
    "print(\"Green indicates the predicted data\")\n",
    "print(\"Blue indicates the complete data\")\n",
    "print(\"Orange indicates the trained data\")"
   ]
  },
  {
   "cell_type": "code",
   "execution_count": 28,
   "id": "bd09ef9b",
   "metadata": {},
   "outputs": [
    {
     "data": {
      "text/plain": [
       "(509, (408, 100, 1))"
      ]
     },
     "execution_count": 28,
     "metadata": {},
     "output_type": "execute_result"
    }
   ],
   "source": [
    "len(testdata), xtester.shape"
   ]
  },
  {
   "cell_type": "code",
   "execution_count": 29,
   "id": "e158832f",
   "metadata": {},
   "outputs": [
    {
     "data": {
      "text/plain": [
       "(1, 100)"
      ]
     },
     "execution_count": 29,
     "metadata": {},
     "output_type": "execute_result"
    }
   ],
   "source": [
    "xinput = testdata[409:].reshape(1,-1)\n",
    "xinput.shape"
   ]
  },
  {
   "cell_type": "code",
   "execution_count": 30,
   "id": "67156d6b",
   "metadata": {},
   "outputs": [
    {
     "name": "stdout",
     "output_type": "stream",
     "text": [
      "[0.6145745]\n",
      "101\n",
      "1 day input [0.86013417 0.85464525 0.84448059 0.8072779  0.71843871 0.66192316\n",
      " 0.67696686 0.67554381 0.67310429 0.68428542 0.68936776 0.70217524\n",
      " 0.71803212 0.72941655 0.73144948 0.74486684 0.76926205 0.75991055\n",
      " 0.74242732 0.73958122 0.74771295 0.75991055 0.7584875  0.76621264\n",
      " 0.75462492 0.76316324 0.79670665 0.80585485 0.7889815  0.78003659\n",
      " 0.73978451 0.73002643 0.73490547 0.74872942 0.75991055 0.75462492\n",
      " 0.75401504 0.76174019 0.7737345  0.82008538 0.80585485 0.81154706\n",
      " 0.77434438 0.78633869 0.79284407 0.78328929 0.77109169 0.74385038\n",
      " 0.71193332 0.68733482 0.67818662 0.65257166 0.64301687 0.65643423\n",
      " 0.67656028 0.67371417 0.65114861 0.65521447 0.66761537 0.67838992\n",
      " 0.69993901 0.63122586 0.63508843 0.64098394 0.64545639 0.64118723\n",
      " 0.63854442 0.63081927 0.62472047 0.6330555  0.64728603 0.6574507\n",
      " 0.66761537 0.66720878 0.64159382 0.62776987 0.63651149 0.63630819\n",
      " 0.62980281 0.62817646 0.63813783 0.65358813 0.63183574 0.57653995\n",
      " 0.57816629 0.57613336 0.61943484 0.57979264 0.57288067 0.62573694\n",
      " 0.63102257 0.6361049  0.62776987 0.6269567  0.63590161 0.62594023\n",
      " 0.6391543  0.62614353 0.62268754 0.61457449]\n",
      "1 day output [[0.6035766]]\n",
      "2 day input [0.85464525 0.84448059 0.8072779  0.71843871 0.66192316 0.67696686\n",
      " 0.67554381 0.67310429 0.68428542 0.68936776 0.70217524 0.71803212\n",
      " 0.72941655 0.73144948 0.74486684 0.76926205 0.75991055 0.74242732\n",
      " 0.73958122 0.74771295 0.75991055 0.7584875  0.76621264 0.75462492\n",
      " 0.76316324 0.79670665 0.80585485 0.7889815  0.78003659 0.73978451\n",
      " 0.73002643 0.73490547 0.74872942 0.75991055 0.75462492 0.75401504\n",
      " 0.76174019 0.7737345  0.82008538 0.80585485 0.81154706 0.77434438\n",
      " 0.78633869 0.79284407 0.78328929 0.77109169 0.74385038 0.71193332\n",
      " 0.68733482 0.67818662 0.65257166 0.64301687 0.65643423 0.67656028\n",
      " 0.67371417 0.65114861 0.65521447 0.66761537 0.67838992 0.69993901\n",
      " 0.63122586 0.63508843 0.64098394 0.64545639 0.64118723 0.63854442\n",
      " 0.63081927 0.62472047 0.6330555  0.64728603 0.6574507  0.66761537\n",
      " 0.66720878 0.64159382 0.62776987 0.63651149 0.63630819 0.62980281\n",
      " 0.62817646 0.63813783 0.65358813 0.63183574 0.57653995 0.57816629\n",
      " 0.57613336 0.61943484 0.57979264 0.57288067 0.62573694 0.63102257\n",
      " 0.6361049  0.62776987 0.6269567  0.63590161 0.62594023 0.6391543\n",
      " 0.62614353 0.62268754 0.61457449 0.6035766 ]\n",
      "2 day output [[0.5875424]]\n",
      "3 day input [0.84448059 0.8072779  0.71843871 0.66192316 0.67696686 0.67554381\n",
      " 0.67310429 0.68428542 0.68936776 0.70217524 0.71803212 0.72941655\n",
      " 0.73144948 0.74486684 0.76926205 0.75991055 0.74242732 0.73958122\n",
      " 0.74771295 0.75991055 0.7584875  0.76621264 0.75462492 0.76316324\n",
      " 0.79670665 0.80585485 0.7889815  0.78003659 0.73978451 0.73002643\n",
      " 0.73490547 0.74872942 0.75991055 0.75462492 0.75401504 0.76174019\n",
      " 0.7737345  0.82008538 0.80585485 0.81154706 0.77434438 0.78633869\n",
      " 0.79284407 0.78328929 0.77109169 0.74385038 0.71193332 0.68733482\n",
      " 0.67818662 0.65257166 0.64301687 0.65643423 0.67656028 0.67371417\n",
      " 0.65114861 0.65521447 0.66761537 0.67838992 0.69993901 0.63122586\n",
      " 0.63508843 0.64098394 0.64545639 0.64118723 0.63854442 0.63081927\n",
      " 0.62472047 0.6330555  0.64728603 0.6574507  0.66761537 0.66720878\n",
      " 0.64159382 0.62776987 0.63651149 0.63630819 0.62980281 0.62817646\n",
      " 0.63813783 0.65358813 0.63183574 0.57653995 0.57816629 0.57613336\n",
      " 0.61943484 0.57979264 0.57288067 0.62573694 0.63102257 0.6361049\n",
      " 0.62776987 0.6269567  0.63590161 0.62594023 0.6391543  0.62614353\n",
      " 0.62268754 0.61457449 0.6035766  0.58754241]\n",
      "3 day output [[0.5704928]]\n",
      "4 day input [0.8072779  0.71843871 0.66192316 0.67696686 0.67554381 0.67310429\n",
      " 0.68428542 0.68936776 0.70217524 0.71803212 0.72941655 0.73144948\n",
      " 0.74486684 0.76926205 0.75991055 0.74242732 0.73958122 0.74771295\n",
      " 0.75991055 0.7584875  0.76621264 0.75462492 0.76316324 0.79670665\n",
      " 0.80585485 0.7889815  0.78003659 0.73978451 0.73002643 0.73490547\n",
      " 0.74872942 0.75991055 0.75462492 0.75401504 0.76174019 0.7737345\n",
      " 0.82008538 0.80585485 0.81154706 0.77434438 0.78633869 0.79284407\n",
      " 0.78328929 0.77109169 0.74385038 0.71193332 0.68733482 0.67818662\n",
      " 0.65257166 0.64301687 0.65643423 0.67656028 0.67371417 0.65114861\n",
      " 0.65521447 0.66761537 0.67838992 0.69993901 0.63122586 0.63508843\n",
      " 0.64098394 0.64545639 0.64118723 0.63854442 0.63081927 0.62472047\n",
      " 0.6330555  0.64728603 0.6574507  0.66761537 0.66720878 0.64159382\n",
      " 0.62776987 0.63651149 0.63630819 0.62980281 0.62817646 0.63813783\n",
      " 0.65358813 0.63183574 0.57653995 0.57816629 0.57613336 0.61943484\n",
      " 0.57979264 0.57288067 0.62573694 0.63102257 0.6361049  0.62776987\n",
      " 0.6269567  0.63590161 0.62594023 0.6391543  0.62614353 0.62268754\n",
      " 0.61457449 0.6035766  0.58754241 0.5704928 ]\n",
      "4 day output [[0.5547747]]\n",
      "5 day input [0.71843871 0.66192316 0.67696686 0.67554381 0.67310429 0.68428542\n",
      " 0.68936776 0.70217524 0.71803212 0.72941655 0.73144948 0.74486684\n",
      " 0.76926205 0.75991055 0.74242732 0.73958122 0.74771295 0.75991055\n",
      " 0.7584875  0.76621264 0.75462492 0.76316324 0.79670665 0.80585485\n",
      " 0.7889815  0.78003659 0.73978451 0.73002643 0.73490547 0.74872942\n",
      " 0.75991055 0.75462492 0.75401504 0.76174019 0.7737345  0.82008538\n",
      " 0.80585485 0.81154706 0.77434438 0.78633869 0.79284407 0.78328929\n",
      " 0.77109169 0.74385038 0.71193332 0.68733482 0.67818662 0.65257166\n",
      " 0.64301687 0.65643423 0.67656028 0.67371417 0.65114861 0.65521447\n",
      " 0.66761537 0.67838992 0.69993901 0.63122586 0.63508843 0.64098394\n",
      " 0.64545639 0.64118723 0.63854442 0.63081927 0.62472047 0.6330555\n",
      " 0.64728603 0.6574507  0.66761537 0.66720878 0.64159382 0.62776987\n",
      " 0.63651149 0.63630819 0.62980281 0.62817646 0.63813783 0.65358813\n",
      " 0.63183574 0.57653995 0.57816629 0.57613336 0.61943484 0.57979264\n",
      " 0.57288067 0.62573694 0.63102257 0.6361049  0.62776987 0.6269567\n",
      " 0.63590161 0.62594023 0.6391543  0.62614353 0.62268754 0.61457449\n",
      " 0.6035766  0.58754241 0.5704928  0.5547747 ]\n",
      "5 day output [[0.5410502]]\n",
      "6 day input [0.66192316 0.67696686 0.67554381 0.67310429 0.68428542 0.68936776\n",
      " 0.70217524 0.71803212 0.72941655 0.73144948 0.74486684 0.76926205\n",
      " 0.75991055 0.74242732 0.73958122 0.74771295 0.75991055 0.7584875\n",
      " 0.76621264 0.75462492 0.76316324 0.79670665 0.80585485 0.7889815\n",
      " 0.78003659 0.73978451 0.73002643 0.73490547 0.74872942 0.75991055\n",
      " 0.75462492 0.75401504 0.76174019 0.7737345  0.82008538 0.80585485\n",
      " 0.81154706 0.77434438 0.78633869 0.79284407 0.78328929 0.77109169\n",
      " 0.74385038 0.71193332 0.68733482 0.67818662 0.65257166 0.64301687\n",
      " 0.65643423 0.67656028 0.67371417 0.65114861 0.65521447 0.66761537\n",
      " 0.67838992 0.69993901 0.63122586 0.63508843 0.64098394 0.64545639\n",
      " 0.64118723 0.63854442 0.63081927 0.62472047 0.6330555  0.64728603\n",
      " 0.6574507  0.66761537 0.66720878 0.64159382 0.62776987 0.63651149\n",
      " 0.63630819 0.62980281 0.62817646 0.63813783 0.65358813 0.63183574\n",
      " 0.57653995 0.57816629 0.57613336 0.61943484 0.57979264 0.57288067\n",
      " 0.62573694 0.63102257 0.6361049  0.62776987 0.6269567  0.63590161\n",
      " 0.62594023 0.6391543  0.62614353 0.62268754 0.61457449 0.6035766\n",
      " 0.58754241 0.5704928  0.5547747  0.5410502 ]\n",
      "6 day output [[0.52917063]]\n",
      "7 day input [0.67696686 0.67554381 0.67310429 0.68428542 0.68936776 0.70217524\n",
      " 0.71803212 0.72941655 0.73144948 0.74486684 0.76926205 0.75991055\n",
      " 0.74242732 0.73958122 0.74771295 0.75991055 0.7584875  0.76621264\n",
      " 0.75462492 0.76316324 0.79670665 0.80585485 0.7889815  0.78003659\n",
      " 0.73978451 0.73002643 0.73490547 0.74872942 0.75991055 0.75462492\n",
      " 0.75401504 0.76174019 0.7737345  0.82008538 0.80585485 0.81154706\n",
      " 0.77434438 0.78633869 0.79284407 0.78328929 0.77109169 0.74385038\n",
      " 0.71193332 0.68733482 0.67818662 0.65257166 0.64301687 0.65643423\n",
      " 0.67656028 0.67371417 0.65114861 0.65521447 0.66761537 0.67838992\n",
      " 0.69993901 0.63122586 0.63508843 0.64098394 0.64545639 0.64118723\n",
      " 0.63854442 0.63081927 0.62472047 0.6330555  0.64728603 0.6574507\n",
      " 0.66761537 0.66720878 0.64159382 0.62776987 0.63651149 0.63630819\n",
      " 0.62980281 0.62817646 0.63813783 0.65358813 0.63183574 0.57653995\n",
      " 0.57816629 0.57613336 0.61943484 0.57979264 0.57288067 0.62573694\n",
      " 0.63102257 0.6361049  0.62776987 0.6269567  0.63590161 0.62594023\n",
      " 0.6391543  0.62614353 0.62268754 0.61457449 0.6035766  0.58754241\n",
      " 0.5704928  0.5547747  0.5410502  0.52917063]\n",
      "7 day output [[0.5189209]]\n",
      "8 day input [0.67554381 0.67310429 0.68428542 0.68936776 0.70217524 0.71803212\n",
      " 0.72941655 0.73144948 0.74486684 0.76926205 0.75991055 0.74242732\n",
      " 0.73958122 0.74771295 0.75991055 0.7584875  0.76621264 0.75462492\n",
      " 0.76316324 0.79670665 0.80585485 0.7889815  0.78003659 0.73978451\n",
      " 0.73002643 0.73490547 0.74872942 0.75991055 0.75462492 0.75401504\n",
      " 0.76174019 0.7737345  0.82008538 0.80585485 0.81154706 0.77434438\n",
      " 0.78633869 0.79284407 0.78328929 0.77109169 0.74385038 0.71193332\n",
      " 0.68733482 0.67818662 0.65257166 0.64301687 0.65643423 0.67656028\n",
      " 0.67371417 0.65114861 0.65521447 0.66761537 0.67838992 0.69993901\n",
      " 0.63122586 0.63508843 0.64098394 0.64545639 0.64118723 0.63854442\n",
      " 0.63081927 0.62472047 0.6330555  0.64728603 0.6574507  0.66761537\n",
      " 0.66720878 0.64159382 0.62776987 0.63651149 0.63630819 0.62980281\n",
      " 0.62817646 0.63813783 0.65358813 0.63183574 0.57653995 0.57816629\n",
      " 0.57613336 0.61943484 0.57979264 0.57288067 0.62573694 0.63102257\n",
      " 0.6361049  0.62776987 0.6269567  0.63590161 0.62594023 0.6391543\n",
      " 0.62614353 0.62268754 0.61457449 0.6035766  0.58754241 0.5704928\n",
      " 0.5547747  0.5410502  0.52917063 0.5189209 ]\n",
      "8 day output [[0.5102422]]\n",
      "9 day input [0.67310429 0.68428542 0.68936776 0.70217524 0.71803212 0.72941655\n",
      " 0.73144948 0.74486684 0.76926205 0.75991055 0.74242732 0.73958122\n",
      " 0.74771295 0.75991055 0.7584875  0.76621264 0.75462492 0.76316324\n",
      " 0.79670665 0.80585485 0.7889815  0.78003659 0.73978451 0.73002643\n",
      " 0.73490547 0.74872942 0.75991055 0.75462492 0.75401504 0.76174019\n",
      " 0.7737345  0.82008538 0.80585485 0.81154706 0.77434438 0.78633869\n",
      " 0.79284407 0.78328929 0.77109169 0.74385038 0.71193332 0.68733482\n",
      " 0.67818662 0.65257166 0.64301687 0.65643423 0.67656028 0.67371417\n",
      " 0.65114861 0.65521447 0.66761537 0.67838992 0.69993901 0.63122586\n",
      " 0.63508843 0.64098394 0.64545639 0.64118723 0.63854442 0.63081927\n",
      " 0.62472047 0.6330555  0.64728603 0.6574507  0.66761537 0.66720878\n",
      " 0.64159382 0.62776987 0.63651149 0.63630819 0.62980281 0.62817646\n",
      " 0.63813783 0.65358813 0.63183574 0.57653995 0.57816629 0.57613336\n",
      " 0.61943484 0.57979264 0.57288067 0.62573694 0.63102257 0.6361049\n",
      " 0.62776987 0.6269567  0.63590161 0.62594023 0.6391543  0.62614353\n",
      " 0.62268754 0.61457449 0.6035766  0.58754241 0.5704928  0.5547747\n",
      " 0.5410502  0.52917063 0.5189209  0.51024222]\n",
      "9 day output [[0.50288564]]\n",
      "10 day input [0.68428542 0.68936776 0.70217524 0.71803212 0.72941655 0.73144948\n",
      " 0.74486684 0.76926205 0.75991055 0.74242732 0.73958122 0.74771295\n",
      " 0.75991055 0.7584875  0.76621264 0.75462492 0.76316324 0.79670665\n",
      " 0.80585485 0.7889815  0.78003659 0.73978451 0.73002643 0.73490547\n",
      " 0.74872942 0.75991055 0.75462492 0.75401504 0.76174019 0.7737345\n",
      " 0.82008538 0.80585485 0.81154706 0.77434438 0.78633869 0.79284407\n",
      " 0.78328929 0.77109169 0.74385038 0.71193332 0.68733482 0.67818662\n",
      " 0.65257166 0.64301687 0.65643423 0.67656028 0.67371417 0.65114861\n",
      " 0.65521447 0.66761537 0.67838992 0.69993901 0.63122586 0.63508843\n",
      " 0.64098394 0.64545639 0.64118723 0.63854442 0.63081927 0.62472047\n",
      " 0.6330555  0.64728603 0.6574507  0.66761537 0.66720878 0.64159382\n",
      " 0.62776987 0.63651149 0.63630819 0.62980281 0.62817646 0.63813783\n",
      " 0.65358813 0.63183574 0.57653995 0.57816629 0.57613336 0.61943484\n",
      " 0.57979264 0.57288067 0.62573694 0.63102257 0.6361049  0.62776987\n",
      " 0.6269567  0.63590161 0.62594023 0.6391543  0.62614353 0.62268754\n",
      " 0.61457449 0.6035766  0.58754241 0.5704928  0.5547747  0.5410502\n",
      " 0.52917063 0.5189209  0.51024222 0.50288564]\n"
     ]
    },
    {
     "name": "stdout",
     "output_type": "stream",
     "text": [
      "10 day output [[0.496723]]\n",
      "11 day input [0.68936776 0.70217524 0.71803212 0.72941655 0.73144948 0.74486684\n",
      " 0.76926205 0.75991055 0.74242732 0.73958122 0.74771295 0.75991055\n",
      " 0.7584875  0.76621264 0.75462492 0.76316324 0.79670665 0.80585485\n",
      " 0.7889815  0.78003659 0.73978451 0.73002643 0.73490547 0.74872942\n",
      " 0.75991055 0.75462492 0.75401504 0.76174019 0.7737345  0.82008538\n",
      " 0.80585485 0.81154706 0.77434438 0.78633869 0.79284407 0.78328929\n",
      " 0.77109169 0.74385038 0.71193332 0.68733482 0.67818662 0.65257166\n",
      " 0.64301687 0.65643423 0.67656028 0.67371417 0.65114861 0.65521447\n",
      " 0.66761537 0.67838992 0.69993901 0.63122586 0.63508843 0.64098394\n",
      " 0.64545639 0.64118723 0.63854442 0.63081927 0.62472047 0.6330555\n",
      " 0.64728603 0.6574507  0.66761537 0.66720878 0.64159382 0.62776987\n",
      " 0.63651149 0.63630819 0.62980281 0.62817646 0.63813783 0.65358813\n",
      " 0.63183574 0.57653995 0.57816629 0.57613336 0.61943484 0.57979264\n",
      " 0.57288067 0.62573694 0.63102257 0.6361049  0.62776987 0.6269567\n",
      " 0.63590161 0.62594023 0.6391543  0.62614353 0.62268754 0.61457449\n",
      " 0.6035766  0.58754241 0.5704928  0.5547747  0.5410502  0.52917063\n",
      " 0.5189209  0.51024222 0.50288564 0.496723  ]\n",
      "11 day output [[0.49168858]]\n",
      "12 day input [0.70217524 0.71803212 0.72941655 0.73144948 0.74486684 0.76926205\n",
      " 0.75991055 0.74242732 0.73958122 0.74771295 0.75991055 0.7584875\n",
      " 0.76621264 0.75462492 0.76316324 0.79670665 0.80585485 0.7889815\n",
      " 0.78003659 0.73978451 0.73002643 0.73490547 0.74872942 0.75991055\n",
      " 0.75462492 0.75401504 0.76174019 0.7737345  0.82008538 0.80585485\n",
      " 0.81154706 0.77434438 0.78633869 0.79284407 0.78328929 0.77109169\n",
      " 0.74385038 0.71193332 0.68733482 0.67818662 0.65257166 0.64301687\n",
      " 0.65643423 0.67656028 0.67371417 0.65114861 0.65521447 0.66761537\n",
      " 0.67838992 0.69993901 0.63122586 0.63508843 0.64098394 0.64545639\n",
      " 0.64118723 0.63854442 0.63081927 0.62472047 0.6330555  0.64728603\n",
      " 0.6574507  0.66761537 0.66720878 0.64159382 0.62776987 0.63651149\n",
      " 0.63630819 0.62980281 0.62817646 0.63813783 0.65358813 0.63183574\n",
      " 0.57653995 0.57816629 0.57613336 0.61943484 0.57979264 0.57288067\n",
      " 0.62573694 0.63102257 0.6361049  0.62776987 0.6269567  0.63590161\n",
      " 0.62594023 0.6391543  0.62614353 0.62268754 0.61457449 0.6035766\n",
      " 0.58754241 0.5704928  0.5547747  0.5410502  0.52917063 0.5189209\n",
      " 0.51024222 0.50288564 0.496723   0.49168858]\n",
      "12 day output [[0.4876812]]\n",
      "13 day input [0.71803212 0.72941655 0.73144948 0.74486684 0.76926205 0.75991055\n",
      " 0.74242732 0.73958122 0.74771295 0.75991055 0.7584875  0.76621264\n",
      " 0.75462492 0.76316324 0.79670665 0.80585485 0.7889815  0.78003659\n",
      " 0.73978451 0.73002643 0.73490547 0.74872942 0.75991055 0.75462492\n",
      " 0.75401504 0.76174019 0.7737345  0.82008538 0.80585485 0.81154706\n",
      " 0.77434438 0.78633869 0.79284407 0.78328929 0.77109169 0.74385038\n",
      " 0.71193332 0.68733482 0.67818662 0.65257166 0.64301687 0.65643423\n",
      " 0.67656028 0.67371417 0.65114861 0.65521447 0.66761537 0.67838992\n",
      " 0.69993901 0.63122586 0.63508843 0.64098394 0.64545639 0.64118723\n",
      " 0.63854442 0.63081927 0.62472047 0.6330555  0.64728603 0.6574507\n",
      " 0.66761537 0.66720878 0.64159382 0.62776987 0.63651149 0.63630819\n",
      " 0.62980281 0.62817646 0.63813783 0.65358813 0.63183574 0.57653995\n",
      " 0.57816629 0.57613336 0.61943484 0.57979264 0.57288067 0.62573694\n",
      " 0.63102257 0.6361049  0.62776987 0.6269567  0.63590161 0.62594023\n",
      " 0.6391543  0.62614353 0.62268754 0.61457449 0.6035766  0.58754241\n",
      " 0.5704928  0.5547747  0.5410502  0.52917063 0.5189209  0.51024222\n",
      " 0.50288564 0.496723   0.49168858 0.48768121]\n",
      "13 day output [[0.48451307]]\n",
      "14 day input [0.72941655 0.73144948 0.74486684 0.76926205 0.75991055 0.74242732\n",
      " 0.73958122 0.74771295 0.75991055 0.7584875  0.76621264 0.75462492\n",
      " 0.76316324 0.79670665 0.80585485 0.7889815  0.78003659 0.73978451\n",
      " 0.73002643 0.73490547 0.74872942 0.75991055 0.75462492 0.75401504\n",
      " 0.76174019 0.7737345  0.82008538 0.80585485 0.81154706 0.77434438\n",
      " 0.78633869 0.79284407 0.78328929 0.77109169 0.74385038 0.71193332\n",
      " 0.68733482 0.67818662 0.65257166 0.64301687 0.65643423 0.67656028\n",
      " 0.67371417 0.65114861 0.65521447 0.66761537 0.67838992 0.69993901\n",
      " 0.63122586 0.63508843 0.64098394 0.64545639 0.64118723 0.63854442\n",
      " 0.63081927 0.62472047 0.6330555  0.64728603 0.6574507  0.66761537\n",
      " 0.66720878 0.64159382 0.62776987 0.63651149 0.63630819 0.62980281\n",
      " 0.62817646 0.63813783 0.65358813 0.63183574 0.57653995 0.57816629\n",
      " 0.57613336 0.61943484 0.57979264 0.57288067 0.62573694 0.63102257\n",
      " 0.6361049  0.62776987 0.6269567  0.63590161 0.62594023 0.6391543\n",
      " 0.62614353 0.62268754 0.61457449 0.6035766  0.58754241 0.5704928\n",
      " 0.5547747  0.5410502  0.52917063 0.5189209  0.51024222 0.50288564\n",
      " 0.496723   0.49168858 0.48768121 0.48451307]\n",
      "14 day output [[0.48195508]]\n",
      "15 day input [0.73144948 0.74486684 0.76926205 0.75991055 0.74242732 0.73958122\n",
      " 0.74771295 0.75991055 0.7584875  0.76621264 0.75462492 0.76316324\n",
      " 0.79670665 0.80585485 0.7889815  0.78003659 0.73978451 0.73002643\n",
      " 0.73490547 0.74872942 0.75991055 0.75462492 0.75401504 0.76174019\n",
      " 0.7737345  0.82008538 0.80585485 0.81154706 0.77434438 0.78633869\n",
      " 0.79284407 0.78328929 0.77109169 0.74385038 0.71193332 0.68733482\n",
      " 0.67818662 0.65257166 0.64301687 0.65643423 0.67656028 0.67371417\n",
      " 0.65114861 0.65521447 0.66761537 0.67838992 0.69993901 0.63122586\n",
      " 0.63508843 0.64098394 0.64545639 0.64118723 0.63854442 0.63081927\n",
      " 0.62472047 0.6330555  0.64728603 0.6574507  0.66761537 0.66720878\n",
      " 0.64159382 0.62776987 0.63651149 0.63630819 0.62980281 0.62817646\n",
      " 0.63813783 0.65358813 0.63183574 0.57653995 0.57816629 0.57613336\n",
      " 0.61943484 0.57979264 0.57288067 0.62573694 0.63102257 0.6361049\n",
      " 0.62776987 0.6269567  0.63590161 0.62594023 0.6391543  0.62614353\n",
      " 0.62268754 0.61457449 0.6035766  0.58754241 0.5704928  0.5547747\n",
      " 0.5410502  0.52917063 0.5189209  0.51024222 0.50288564 0.496723\n",
      " 0.49168858 0.48768121 0.48451307 0.48195508]\n",
      "15 day output [[0.47979683]]\n",
      "16 day input [0.74486684 0.76926205 0.75991055 0.74242732 0.73958122 0.74771295\n",
      " 0.75991055 0.7584875  0.76621264 0.75462492 0.76316324 0.79670665\n",
      " 0.80585485 0.7889815  0.78003659 0.73978451 0.73002643 0.73490547\n",
      " 0.74872942 0.75991055 0.75462492 0.75401504 0.76174019 0.7737345\n",
      " 0.82008538 0.80585485 0.81154706 0.77434438 0.78633869 0.79284407\n",
      " 0.78328929 0.77109169 0.74385038 0.71193332 0.68733482 0.67818662\n",
      " 0.65257166 0.64301687 0.65643423 0.67656028 0.67371417 0.65114861\n",
      " 0.65521447 0.66761537 0.67838992 0.69993901 0.63122586 0.63508843\n",
      " 0.64098394 0.64545639 0.64118723 0.63854442 0.63081927 0.62472047\n",
      " 0.6330555  0.64728603 0.6574507  0.66761537 0.66720878 0.64159382\n",
      " 0.62776987 0.63651149 0.63630819 0.62980281 0.62817646 0.63813783\n",
      " 0.65358813 0.63183574 0.57653995 0.57816629 0.57613336 0.61943484\n",
      " 0.57979264 0.57288067 0.62573694 0.63102257 0.6361049  0.62776987\n",
      " 0.6269567  0.63590161 0.62594023 0.6391543  0.62614353 0.62268754\n",
      " 0.61457449 0.6035766  0.58754241 0.5704928  0.5547747  0.5410502\n",
      " 0.52917063 0.5189209  0.51024222 0.50288564 0.496723   0.49168858\n",
      " 0.48768121 0.48451307 0.48195508 0.47979683]\n",
      "16 day output [[0.47787893]]\n",
      "17 day input [0.76926205 0.75991055 0.74242732 0.73958122 0.74771295 0.75991055\n",
      " 0.7584875  0.76621264 0.75462492 0.76316324 0.79670665 0.80585485\n",
      " 0.7889815  0.78003659 0.73978451 0.73002643 0.73490547 0.74872942\n",
      " 0.75991055 0.75462492 0.75401504 0.76174019 0.7737345  0.82008538\n",
      " 0.80585485 0.81154706 0.77434438 0.78633869 0.79284407 0.78328929\n",
      " 0.77109169 0.74385038 0.71193332 0.68733482 0.67818662 0.65257166\n",
      " 0.64301687 0.65643423 0.67656028 0.67371417 0.65114861 0.65521447\n",
      " 0.66761537 0.67838992 0.69993901 0.63122586 0.63508843 0.64098394\n",
      " 0.64545639 0.64118723 0.63854442 0.63081927 0.62472047 0.6330555\n",
      " 0.64728603 0.6574507  0.66761537 0.66720878 0.64159382 0.62776987\n",
      " 0.63651149 0.63630819 0.62980281 0.62817646 0.63813783 0.65358813\n",
      " 0.63183574 0.57653995 0.57816629 0.57613336 0.61943484 0.57979264\n",
      " 0.57288067 0.62573694 0.63102257 0.6361049  0.62776987 0.6269567\n",
      " 0.63590161 0.62594023 0.6391543  0.62614353 0.62268754 0.61457449\n",
      " 0.6035766  0.58754241 0.5704928  0.5547747  0.5410502  0.52917063\n",
      " 0.5189209  0.51024222 0.50288564 0.496723   0.49168858 0.48768121\n",
      " 0.48451307 0.48195508 0.47979683 0.47787893]\n",
      "17 day output [[0.476097]]\n",
      "18 day input [0.75991055 0.74242732 0.73958122 0.74771295 0.75991055 0.7584875\n",
      " 0.76621264 0.75462492 0.76316324 0.79670665 0.80585485 0.7889815\n",
      " 0.78003659 0.73978451 0.73002643 0.73490547 0.74872942 0.75991055\n",
      " 0.75462492 0.75401504 0.76174019 0.7737345  0.82008538 0.80585485\n",
      " 0.81154706 0.77434438 0.78633869 0.79284407 0.78328929 0.77109169\n",
      " 0.74385038 0.71193332 0.68733482 0.67818662 0.65257166 0.64301687\n",
      " 0.65643423 0.67656028 0.67371417 0.65114861 0.65521447 0.66761537\n",
      " 0.67838992 0.69993901 0.63122586 0.63508843 0.64098394 0.64545639\n",
      " 0.64118723 0.63854442 0.63081927 0.62472047 0.6330555  0.64728603\n",
      " 0.6574507  0.66761537 0.66720878 0.64159382 0.62776987 0.63651149\n",
      " 0.63630819 0.62980281 0.62817646 0.63813783 0.65358813 0.63183574\n",
      " 0.57653995 0.57816629 0.57613336 0.61943484 0.57979264 0.57288067\n",
      " 0.62573694 0.63102257 0.6361049  0.62776987 0.6269567  0.63590161\n",
      " 0.62594023 0.6391543  0.62614353 0.62268754 0.61457449 0.6035766\n",
      " 0.58754241 0.5704928  0.5547747  0.5410502  0.52917063 0.5189209\n",
      " 0.51024222 0.50288564 0.496723   0.49168858 0.48768121 0.48451307\n",
      " 0.48195508 0.47979683 0.47787893 0.47609699]\n",
      "18 day output [[0.47439083]]\n",
      "19 day input [0.74242732 0.73958122 0.74771295 0.75991055 0.7584875  0.76621264\n",
      " 0.75462492 0.76316324 0.79670665 0.80585485 0.7889815  0.78003659\n",
      " 0.73978451 0.73002643 0.73490547 0.74872942 0.75991055 0.75462492\n",
      " 0.75401504 0.76174019 0.7737345  0.82008538 0.80585485 0.81154706\n",
      " 0.77434438 0.78633869 0.79284407 0.78328929 0.77109169 0.74385038\n",
      " 0.71193332 0.68733482 0.67818662 0.65257166 0.64301687 0.65643423\n",
      " 0.67656028 0.67371417 0.65114861 0.65521447 0.66761537 0.67838992\n",
      " 0.69993901 0.63122586 0.63508843 0.64098394 0.64545639 0.64118723\n",
      " 0.63854442 0.63081927 0.62472047 0.6330555  0.64728603 0.6574507\n",
      " 0.66761537 0.66720878 0.64159382 0.62776987 0.63651149 0.63630819\n",
      " 0.62980281 0.62817646 0.63813783 0.65358813 0.63183574 0.57653995\n",
      " 0.57816629 0.57613336 0.61943484 0.57979264 0.57288067 0.62573694\n",
      " 0.63102257 0.6361049  0.62776987 0.6269567  0.63590161 0.62594023\n",
      " 0.6391543  0.62614353 0.62268754 0.61457449 0.6035766  0.58754241\n",
      " 0.5704928  0.5547747  0.5410502  0.52917063 0.5189209  0.51024222\n",
      " 0.50288564 0.496723   0.49168858 0.48768121 0.48451307 0.48195508\n",
      " 0.47979683 0.47787893 0.47609699 0.47439083]\n"
     ]
    },
    {
     "name": "stdout",
     "output_type": "stream",
     "text": [
      "19 day output [[0.47273132]]\n",
      "20 day input [0.73958122 0.74771295 0.75991055 0.7584875  0.76621264 0.75462492\n",
      " 0.76316324 0.79670665 0.80585485 0.7889815  0.78003659 0.73978451\n",
      " 0.73002643 0.73490547 0.74872942 0.75991055 0.75462492 0.75401504\n",
      " 0.76174019 0.7737345  0.82008538 0.80585485 0.81154706 0.77434438\n",
      " 0.78633869 0.79284407 0.78328929 0.77109169 0.74385038 0.71193332\n",
      " 0.68733482 0.67818662 0.65257166 0.64301687 0.65643423 0.67656028\n",
      " 0.67371417 0.65114861 0.65521447 0.66761537 0.67838992 0.69993901\n",
      " 0.63122586 0.63508843 0.64098394 0.64545639 0.64118723 0.63854442\n",
      " 0.63081927 0.62472047 0.6330555  0.64728603 0.6574507  0.66761537\n",
      " 0.66720878 0.64159382 0.62776987 0.63651149 0.63630819 0.62980281\n",
      " 0.62817646 0.63813783 0.65358813 0.63183574 0.57653995 0.57816629\n",
      " 0.57613336 0.61943484 0.57979264 0.57288067 0.62573694 0.63102257\n",
      " 0.6361049  0.62776987 0.6269567  0.63590161 0.62594023 0.6391543\n",
      " 0.62614353 0.62268754 0.61457449 0.6035766  0.58754241 0.5704928\n",
      " 0.5547747  0.5410502  0.52917063 0.5189209  0.51024222 0.50288564\n",
      " 0.496723   0.49168858 0.48768121 0.48451307 0.48195508 0.47979683\n",
      " 0.47787893 0.47609699 0.47439083 0.47273132]\n",
      "20 day output [[0.4711105]]\n",
      "21 day input [0.74771295 0.75991055 0.7584875  0.76621264 0.75462492 0.76316324\n",
      " 0.79670665 0.80585485 0.7889815  0.78003659 0.73978451 0.73002643\n",
      " 0.73490547 0.74872942 0.75991055 0.75462492 0.75401504 0.76174019\n",
      " 0.7737345  0.82008538 0.80585485 0.81154706 0.77434438 0.78633869\n",
      " 0.79284407 0.78328929 0.77109169 0.74385038 0.71193332 0.68733482\n",
      " 0.67818662 0.65257166 0.64301687 0.65643423 0.67656028 0.67371417\n",
      " 0.65114861 0.65521447 0.66761537 0.67838992 0.69993901 0.63122586\n",
      " 0.63508843 0.64098394 0.64545639 0.64118723 0.63854442 0.63081927\n",
      " 0.62472047 0.6330555  0.64728603 0.6574507  0.66761537 0.66720878\n",
      " 0.64159382 0.62776987 0.63651149 0.63630819 0.62980281 0.62817646\n",
      " 0.63813783 0.65358813 0.63183574 0.57653995 0.57816629 0.57613336\n",
      " 0.61943484 0.57979264 0.57288067 0.62573694 0.63102257 0.6361049\n",
      " 0.62776987 0.6269567  0.63590161 0.62594023 0.6391543  0.62614353\n",
      " 0.62268754 0.61457449 0.6035766  0.58754241 0.5704928  0.5547747\n",
      " 0.5410502  0.52917063 0.5189209  0.51024222 0.50288564 0.496723\n",
      " 0.49168858 0.48768121 0.48451307 0.48195508 0.47979683 0.47787893\n",
      " 0.47609699 0.47439083 0.47273132 0.47111049]\n",
      "21 day output [[0.46953416]]\n",
      "22 day input [0.75991055 0.7584875  0.76621264 0.75462492 0.76316324 0.79670665\n",
      " 0.80585485 0.7889815  0.78003659 0.73978451 0.73002643 0.73490547\n",
      " 0.74872942 0.75991055 0.75462492 0.75401504 0.76174019 0.7737345\n",
      " 0.82008538 0.80585485 0.81154706 0.77434438 0.78633869 0.79284407\n",
      " 0.78328929 0.77109169 0.74385038 0.71193332 0.68733482 0.67818662\n",
      " 0.65257166 0.64301687 0.65643423 0.67656028 0.67371417 0.65114861\n",
      " 0.65521447 0.66761537 0.67838992 0.69993901 0.63122586 0.63508843\n",
      " 0.64098394 0.64545639 0.64118723 0.63854442 0.63081927 0.62472047\n",
      " 0.6330555  0.64728603 0.6574507  0.66761537 0.66720878 0.64159382\n",
      " 0.62776987 0.63651149 0.63630819 0.62980281 0.62817646 0.63813783\n",
      " 0.65358813 0.63183574 0.57653995 0.57816629 0.57613336 0.61943484\n",
      " 0.57979264 0.57288067 0.62573694 0.63102257 0.6361049  0.62776987\n",
      " 0.6269567  0.63590161 0.62594023 0.6391543  0.62614353 0.62268754\n",
      " 0.61457449 0.6035766  0.58754241 0.5704928  0.5547747  0.5410502\n",
      " 0.52917063 0.5189209  0.51024222 0.50288564 0.496723   0.49168858\n",
      " 0.48768121 0.48451307 0.48195508 0.47979683 0.47787893 0.47609699\n",
      " 0.47439083 0.47273132 0.47111049 0.46953416]\n",
      "22 day output [[0.46801606]]\n",
      "23 day input [0.7584875  0.76621264 0.75462492 0.76316324 0.79670665 0.80585485\n",
      " 0.7889815  0.78003659 0.73978451 0.73002643 0.73490547 0.74872942\n",
      " 0.75991055 0.75462492 0.75401504 0.76174019 0.7737345  0.82008538\n",
      " 0.80585485 0.81154706 0.77434438 0.78633869 0.79284407 0.78328929\n",
      " 0.77109169 0.74385038 0.71193332 0.68733482 0.67818662 0.65257166\n",
      " 0.64301687 0.65643423 0.67656028 0.67371417 0.65114861 0.65521447\n",
      " 0.66761537 0.67838992 0.69993901 0.63122586 0.63508843 0.64098394\n",
      " 0.64545639 0.64118723 0.63854442 0.63081927 0.62472047 0.6330555\n",
      " 0.64728603 0.6574507  0.66761537 0.66720878 0.64159382 0.62776987\n",
      " 0.63651149 0.63630819 0.62980281 0.62817646 0.63813783 0.65358813\n",
      " 0.63183574 0.57653995 0.57816629 0.57613336 0.61943484 0.57979264\n",
      " 0.57288067 0.62573694 0.63102257 0.6361049  0.62776987 0.6269567\n",
      " 0.63590161 0.62594023 0.6391543  0.62614353 0.62268754 0.61457449\n",
      " 0.6035766  0.58754241 0.5704928  0.5547747  0.5410502  0.52917063\n",
      " 0.5189209  0.51024222 0.50288564 0.496723   0.49168858 0.48768121\n",
      " 0.48451307 0.48195508 0.47979683 0.47787893 0.47609699 0.47439083\n",
      " 0.47273132 0.47111049 0.46953416 0.46801606]\n",
      "23 day output [[0.4665729]]\n",
      "24 day input [0.76621264 0.75462492 0.76316324 0.79670665 0.80585485 0.7889815\n",
      " 0.78003659 0.73978451 0.73002643 0.73490547 0.74872942 0.75991055\n",
      " 0.75462492 0.75401504 0.76174019 0.7737345  0.82008538 0.80585485\n",
      " 0.81154706 0.77434438 0.78633869 0.79284407 0.78328929 0.77109169\n",
      " 0.74385038 0.71193332 0.68733482 0.67818662 0.65257166 0.64301687\n",
      " 0.65643423 0.67656028 0.67371417 0.65114861 0.65521447 0.66761537\n",
      " 0.67838992 0.69993901 0.63122586 0.63508843 0.64098394 0.64545639\n",
      " 0.64118723 0.63854442 0.63081927 0.62472047 0.6330555  0.64728603\n",
      " 0.6574507  0.66761537 0.66720878 0.64159382 0.62776987 0.63651149\n",
      " 0.63630819 0.62980281 0.62817646 0.63813783 0.65358813 0.63183574\n",
      " 0.57653995 0.57816629 0.57613336 0.61943484 0.57979264 0.57288067\n",
      " 0.62573694 0.63102257 0.6361049  0.62776987 0.6269567  0.63590161\n",
      " 0.62594023 0.6391543  0.62614353 0.62268754 0.61457449 0.6035766\n",
      " 0.58754241 0.5704928  0.5547747  0.5410502  0.52917063 0.5189209\n",
      " 0.51024222 0.50288564 0.496723   0.49168858 0.48768121 0.48451307\n",
      " 0.48195508 0.47979683 0.47787893 0.47609699 0.47439083 0.47273132\n",
      " 0.47111049 0.46953416 0.46801606 0.46657291]\n",
      "24 day output [[0.46516696]]\n",
      "25 day input [0.75462492 0.76316324 0.79670665 0.80585485 0.7889815  0.78003659\n",
      " 0.73978451 0.73002643 0.73490547 0.74872942 0.75991055 0.75462492\n",
      " 0.75401504 0.76174019 0.7737345  0.82008538 0.80585485 0.81154706\n",
      " 0.77434438 0.78633869 0.79284407 0.78328929 0.77109169 0.74385038\n",
      " 0.71193332 0.68733482 0.67818662 0.65257166 0.64301687 0.65643423\n",
      " 0.67656028 0.67371417 0.65114861 0.65521447 0.66761537 0.67838992\n",
      " 0.69993901 0.63122586 0.63508843 0.64098394 0.64545639 0.64118723\n",
      " 0.63854442 0.63081927 0.62472047 0.6330555  0.64728603 0.6574507\n",
      " 0.66761537 0.66720878 0.64159382 0.62776987 0.63651149 0.63630819\n",
      " 0.62980281 0.62817646 0.63813783 0.65358813 0.63183574 0.57653995\n",
      " 0.57816629 0.57613336 0.61943484 0.57979264 0.57288067 0.62573694\n",
      " 0.63102257 0.6361049  0.62776987 0.6269567  0.63590161 0.62594023\n",
      " 0.6391543  0.62614353 0.62268754 0.61457449 0.6035766  0.58754241\n",
      " 0.5704928  0.5547747  0.5410502  0.52917063 0.5189209  0.51024222\n",
      " 0.50288564 0.496723   0.49168858 0.48768121 0.48451307 0.48195508\n",
      " 0.47979683 0.47787893 0.47609699 0.47439083 0.47273132 0.47111049\n",
      " 0.46953416 0.46801606 0.46657291 0.46516696]\n",
      "25 day output [[0.46382105]]\n",
      "26 day input [0.76316324 0.79670665 0.80585485 0.7889815  0.78003659 0.73978451\n",
      " 0.73002643 0.73490547 0.74872942 0.75991055 0.75462492 0.75401504\n",
      " 0.76174019 0.7737345  0.82008538 0.80585485 0.81154706 0.77434438\n",
      " 0.78633869 0.79284407 0.78328929 0.77109169 0.74385038 0.71193332\n",
      " 0.68733482 0.67818662 0.65257166 0.64301687 0.65643423 0.67656028\n",
      " 0.67371417 0.65114861 0.65521447 0.66761537 0.67838992 0.69993901\n",
      " 0.63122586 0.63508843 0.64098394 0.64545639 0.64118723 0.63854442\n",
      " 0.63081927 0.62472047 0.6330555  0.64728603 0.6574507  0.66761537\n",
      " 0.66720878 0.64159382 0.62776987 0.63651149 0.63630819 0.62980281\n",
      " 0.62817646 0.63813783 0.65358813 0.63183574 0.57653995 0.57816629\n",
      " 0.57613336 0.61943484 0.57979264 0.57288067 0.62573694 0.63102257\n",
      " 0.6361049  0.62776987 0.6269567  0.63590161 0.62594023 0.6391543\n",
      " 0.62614353 0.62268754 0.61457449 0.6035766  0.58754241 0.5704928\n",
      " 0.5547747  0.5410502  0.52917063 0.5189209  0.51024222 0.50288564\n",
      " 0.496723   0.49168858 0.48768121 0.48451307 0.48195508 0.47979683\n",
      " 0.47787893 0.47609699 0.47439083 0.47273132 0.47111049 0.46953416\n",
      " 0.46801606 0.46657291 0.46516696 0.46382105]\n",
      "26 day output [[0.46257016]]\n",
      "27 day input [0.79670665 0.80585485 0.7889815  0.78003659 0.73978451 0.73002643\n",
      " 0.73490547 0.74872942 0.75991055 0.75462492 0.75401504 0.76174019\n",
      " 0.7737345  0.82008538 0.80585485 0.81154706 0.77434438 0.78633869\n",
      " 0.79284407 0.78328929 0.77109169 0.74385038 0.71193332 0.68733482\n",
      " 0.67818662 0.65257166 0.64301687 0.65643423 0.67656028 0.67371417\n",
      " 0.65114861 0.65521447 0.66761537 0.67838992 0.69993901 0.63122586\n",
      " 0.63508843 0.64098394 0.64545639 0.64118723 0.63854442 0.63081927\n",
      " 0.62472047 0.6330555  0.64728603 0.6574507  0.66761537 0.66720878\n",
      " 0.64159382 0.62776987 0.63651149 0.63630819 0.62980281 0.62817646\n",
      " 0.63813783 0.65358813 0.63183574 0.57653995 0.57816629 0.57613336\n",
      " 0.61943484 0.57979264 0.57288067 0.62573694 0.63102257 0.6361049\n",
      " 0.62776987 0.6269567  0.63590161 0.62594023 0.6391543  0.62614353\n",
      " 0.62268754 0.61457449 0.6035766  0.58754241 0.5704928  0.5547747\n",
      " 0.5410502  0.52917063 0.5189209  0.51024222 0.50288564 0.496723\n",
      " 0.49168858 0.48768121 0.48451307 0.48195508 0.47979683 0.47787893\n",
      " 0.47609699 0.47439083 0.47273132 0.47111049 0.46953416 0.46801606\n",
      " 0.46657291 0.46516696 0.46382105 0.46257016]\n"
     ]
    },
    {
     "name": "stdout",
     "output_type": "stream",
     "text": [
      "27 day output [[0.46143952]]\n",
      "[[0.6145744919776917], [0.6035766005516052], [0.5875424146652222], [0.5704928040504456], [0.5547747015953064], [0.5410501956939697], [0.5291706323623657], [0.5189208984375], [0.510242223739624], [0.502885639667511], [0.4967229962348938], [0.4916885793209076], [0.48768121004104614], [0.4845130741596222], [0.48195508122444153], [0.479796826839447], [0.4778789281845093], [0.4760969877243042], [0.47439083456993103], [0.4727313220500946], [0.4711104929447174], [0.46953415870666504], [0.4680160582065582], [0.46657291054725647], [0.46516695618629456], [0.46382105350494385], [0.4625701606273651], [0.4614395201206207]]\n"
     ]
    }
   ],
   "source": [
    "tmpinput = list(xinput)\n",
    "temp_input = tmpinput[0].tolist()\n",
    "\n",
    "lstoutput=[]\n",
    "nossteps=100\n",
    "nextNumberOfDays = 28\n",
    "i=0\n",
    "\n",
    "while(i<nextNumberOfDays):\n",
    "    \n",
    "    if(len(temp_input)>100):\n",
    "        xinput=np.array(temp_input[1:])\n",
    "        print(\"{} day input {}\".format(i,xinput))\n",
    "        xinput=xinput.reshape(1,-1)\n",
    "        xinput = xinput.reshape((1, nossteps, 1))\n",
    "        yhat = mdl.predict(xinput, verbose=0)\n",
    "        print(\"{} day output {}\".format(i,yhat))\n",
    "        temp_input.extend(yhat[0].tolist())\n",
    "        temp_input=temp_input[1:]\n",
    "        lstoutput.extend(yhat.tolist())\n",
    "        i=i+1\n",
    "    else:\n",
    "        xinput = xinput.reshape((1, nossteps,1))\n",
    "        yhat = mdl.predict(xinput, verbose=0)\n",
    "        print(yhat[0])\n",
    "        temp_input.extend(yhat[0].tolist())\n",
    "        print(len(temp_input))\n",
    "        lstoutput.extend(yhat.tolist())\n",
    "        i=i+1\n",
    "    \n",
    "\n",
    "print(lstoutput)"
   ]
  },
  {
   "cell_type": "code",
   "execution_count": 31,
   "id": "2d854b63",
   "metadata": {},
   "outputs": [],
   "source": [
    "dnew = np.arange(1,101)\n",
    "dpred = np.arange(101,129)"
   ]
  },
  {
   "cell_type": "code",
   "execution_count": 32,
   "id": "e0f42810",
   "metadata": {},
   "outputs": [
    {
     "data": {
      "text/plain": [
       "(100,)"
      ]
     },
     "execution_count": 32,
     "metadata": {},
     "output_type": "execute_result"
    }
   ],
   "source": [
    "dnew.shape"
   ]
  },
  {
   "cell_type": "code",
   "execution_count": 33,
   "id": "e4b48717",
   "metadata": {},
   "outputs": [
    {
     "data": {
      "text/plain": [
       "(28,)"
      ]
     },
     "execution_count": 33,
     "metadata": {},
     "output_type": "execute_result"
    }
   ],
   "source": [
    "dpred.shape"
   ]
  },
  {
   "cell_type": "code",
   "execution_count": 34,
   "id": "563f7afc",
   "metadata": {},
   "outputs": [
    {
     "data": {
      "text/plain": [
       "2035"
      ]
     },
     "execution_count": 34,
     "metadata": {},
     "output_type": "execute_result"
    }
   ],
   "source": [
    "defn3 = defn_high.tolist()\n",
    "defn3.extend(lstoutput)\n",
    "\n",
    "len(defn_high)"
   ]
  },
  {
   "cell_type": "code",
   "execution_count": 35,
   "id": "3ebb528e",
   "metadata": {},
   "outputs": [
    {
     "data": {
      "text/plain": [
       "[<matplotlib.lines.Line2D at 0x1cf962b7f70>]"
      ]
     },
     "execution_count": 35,
     "metadata": {},
     "output_type": "execute_result"
    },
    {
     "data": {
      "image/png": "[encoded data removed]",
      "text/plain": [
       "<Figure size 432x288 with 1 Axes>"
      ]
     },
     "metadata": {
      "needs_background": "light"
     },
     "output_type": "display_data"
    }
   ],
   "source": [
    "plt.plot(dnew, sclr.inverse_transform(defn_high[1935:]))\n",
    "plt.plot(dpred, sclr.inverse_transform(lstoutput))"
   ]
  },
  {
   "cell_type": "code",
   "execution_count": 36,
   "id": "1f3e8631",
   "metadata": {},
   "outputs": [
    {
     "data": {
      "text/plain": [
       "[<matplotlib.lines.Line2D at 0x1cf96252b50>]"
      ]
     },
     "execution_count": 36,
     "metadata": {},
     "output_type": "execute_result"
    },
    {
     "data": {
      "image/png": "[encoded data removed]",
      "text/plain": [
       "<Figure size 432x288 with 1 Axes>"
      ]
     },
     "metadata": {
      "needs_background": "light"
     },
     "output_type": "display_data"
    }
   ],
   "source": [
    "defn3=defn_high.tolist()\n",
    "defn3.extend(lstoutput)\n",
    "plt.plot(defn3[2000:])"
   ]
  },
  {
   "cell_type": "code",
   "execution_count": 37,
   "id": "855ccc6d",
   "metadata": {},
   "outputs": [],
   "source": [
    "defn3=sclr.inverse_transform(defn3).tolist()"
   ]
  },
  {
   "cell_type": "code",
   "execution_count": 38,
   "id": "aadec9ef",
   "metadata": {},
   "outputs": [
    {
     "data": {
      "text/plain": [
       "[<matplotlib.lines.Line2D at 0x1cf9628e580>]"
      ]
     },
     "execution_count": 38,
     "metadata": {},
     "output_type": "execute_result"
    },
    {
     "data": {
      "image/png": "[encoded data removed]",
      "text/plain": [
       "<Figure size 432x288 with 1 Axes>"
      ]
     },
     "metadata": {
      "needs_background": "light"
     },
     "output_type": "display_data"
    }
   ],
   "source": [
    "plt.plot(defn3)"
   ]
  },
  {
   "cell_type": "markdown",
   "id": "2e50f7a0",
   "metadata": {},
   "source": [
    "CONCLUSION\n",
    "\n",
    "We have successfully completed a project on stock market prediction and forecasting using stacked LSTM."
   ]
  }
 ],
 "metadata": {
  "kernelspec": {
   "display_name": "Python 3 (ipykernel)",
   "language": "python",
   "name": "python3"
  },
  "language_info": {
   "codemirror_mode": {
    "name": "ipython",
    "version": 3
   },
   "file_extension": ".py",
   "mimetype": "text/x-python",
   "name": "python",
   "nbconvert_exporter": "python",
   "pygments_lexer": "ipython3",
   "version": "3.9.7"
  }
 },
 "nbformat": 4,
 "nbformat_minor": 5
}
